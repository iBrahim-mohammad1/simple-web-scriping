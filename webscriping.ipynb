{
 "cells": [
  {
   "cell_type": "code",
   "execution_count": 1,
   "id": "f0c7ca0f",
   "metadata": {},
   "outputs": [],
   "source": [
    "import requests\n",
    "from bs4 import BeautifulSoup\n",
    "import pandas as pd\n",
    "import sqlite3\n",
    "import logging"
   ]
  },
  {
   "cell_type": "code",
   "execution_count": 2,
   "id": "bc39f44b",
   "metadata": {},
   "outputs": [],
   "source": [
    "def extract_and_transform(url, table_attribs):\n",
    "    \n",
    "        page = requests.get(url).text\n",
    "        soup = BeautifulSoup(page, 'html.parser')\n",
    "        df = pd.DataFrame(columns=table_attribs)\n",
    "        tables = soup.find_all('tbody')\n",
    "\n",
    "        if tables:\n",
    "            rows = tables[0].find_all('tr')\n",
    "\n",
    "            for row in rows:\n",
    "                if row.find('td') is not None:\n",
    "                    col = row.find_all('td')\n",
    "                    bank_name = col[1].find_all('a')[1]['title']\n",
    "                    market_cap = col[2].contents[0][:-1]\n",
    "                    data_dict = {\"Name\": bank_name, \"MC_GBP_Billion\": float(market_cap)}\n",
    "                    df1 = pd.DataFrame(data_dict, index=[0])\n",
    "                    df = pd.concat([df, df1], ignore_index=True)\n",
    "\n",
    "            return df\n",
    "\n",
    "    "
   ]
  },
  {
   "cell_type": "code",
   "execution_count": 3,
   "id": "448ec1b6",
   "metadata": {},
   "outputs": [],
   "source": [
    "url = 'https://web.archive.org/web/20230908091635 /https://en.wikipedia.org/wiki/List_of_largest_banks'\n",
    "table_attribs = ['Name', 'MC_USD_Billion']\n",
    "csv_filename = './Largest_banks_data.csv'\n",
    "db_filename = 'small.db'"
   ]
  },
  {
   "cell_type": "code",
   "execution_count": 4,
   "id": "29edbca8",
   "metadata": {},
   "outputs": [],
   "source": [
    "def load_data(df, csv_filename, db_connection):\n",
    "    \n",
    "        # Load to CSV\n",
    "        df.to_csv(csv_filename, index=False)\n",
    "        logging.info(f\"Data saved to {csv_filename}\")\n",
    "\n",
    "        # Load to SQLite database\n",
    "        df.to_sql('Largest_banks', db_connection, index=False, if_exists='replace')\n",
    "        logging.info(\"Data saved to SQLite database\")\n",
    "\n",
    " \n"
   ]
  },
  {
   "cell_type": "code",
   "execution_count": 5,
   "id": "028d4c7a",
   "metadata": {},
   "outputs": [
    {
     "name": "stdout",
     "output_type": "stream",
     "text": [
      "Query: SELECT * FROM Largest_banks\n",
      "Result:\n",
      "('JPMorgan Chase', None, 432.92)\n",
      "('Bank of America', None, 231.52)\n",
      "('Industrial and Commercial Bank of China', None, 194.56)\n",
      "('Agricultural Bank of China', None, 160.68)\n",
      "('HDFC Bank', None, 157.91)\n",
      "('Wells Fargo', None, 155.87)\n",
      "('HSBC', None, 148.9)\n",
      "('Morgan Stanley', None, 140.83)\n",
      "('China Construction Bank', None, 139.82)\n",
      "('Bank of China', None, 136.81)\n",
      "Query: SELECT AVG(MC_GBP_Billion) FROM Largest_banks\n",
      "Result:\n",
      "(189.982,)\n",
      "Query: SELECT Name FROM Largest_banks LIMIT 5\n",
      "Result:\n",
      "('JPMorgan Chase',)\n",
      "('Bank of America',)\n",
      "('Industrial and Commercial Bank of China',)\n",
      "('Agricultural Bank of China',)\n",
      "('HDFC Bank',)\n"
     ]
    }
   ],
   "source": [
    "def run_queries(query, conn):\n",
    "    try:\n",
    "        cursor = conn.cursor()\n",
    "        cursor.execute(query)\n",
    "        result = cursor.fetchall()\n",
    "\n",
    "        # Log the query and result\n",
    "        logging.info(f\"Query: {query}\")\n",
    "        logging.info(f\"Result: {result}\")\n",
    "\n",
    "        # Print the query and result\n",
    "        print(f\"Query: {query}\")\n",
    "        print(\"Result:\")\n",
    "        for row in result:\n",
    "            print(row)\n",
    "\n",
    "        return result\n",
    "\n",
    "    except Exception as e:\n",
    "        logging.error(f\"Error in run_queries: {e}\")\n",
    "        print(f\"Error in run_queries: {e}\")\n",
    "\n",
    "# Main program\n",
    "url = 'https://web.archive.org/web/20230908091635 /https://en.wikipedia.org/wiki/List_of_largest_banks'\n",
    "table_attribs = ['Name', 'MC_USD_Billion']\n",
    "csv_filename = './Largest_banks_data.csv'\n",
    "db_filename = 'Banks.db'\n",
    "\n",
    "# SQLite connection\n",
    "conn = sqlite3.connect(db_filename)\n",
    "\n",
    "# Step 1: Extract and transform\n",
    "extracted_data = extract_and_transform(url, table_attribs)\n",
    "\n",
    "# Step 2: Load to CSV and database\n",
    "if not extracted_data.empty:\n",
    "    load_data(extracted_data, csv_filename, conn)\n",
    "\n",
    "# Step 3: Run queries\n",
    "query1 = \"SELECT * FROM Largest_banks\"\n",
    "query2 = \"SELECT AVG(MC_GBP_Billion) FROM Largest_banks\"\n",
    "query3 = \"SELECT Name FROM Largest_banks LIMIT 5\"\n",
    "\n",
    "run_queries(query1, conn)\n",
    "run_queries(query2, conn)\n",
    "run_queries(query3, conn)\n",
    "\n",
    "# Close the connection\n",
    "conn.close()"
   ]
  },
  {
   "cell_type": "code",
   "execution_count": null,
   "id": "49a10f53",
   "metadata": {},
   "outputs": [],
   "source": []
  }
 ],
 "metadata": {
  "kernelspec": {
   "display_name": "Python 3 (ipykernel)",
   "language": "python",
   "name": "python3"
  },
  "language_info": {
   "codemirror_mode": {
    "name": "ipython",
    "version": 3
   },
   "file_extension": ".py",
   "mimetype": "text/x-python",
   "name": "python",
   "nbconvert_exporter": "python",
   "pygments_lexer": "ipython3",
   "version": "3.11.4"
  }
 },
 "nbformat": 4,
 "nbformat_minor": 5
}
